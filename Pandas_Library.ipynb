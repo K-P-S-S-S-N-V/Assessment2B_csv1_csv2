{
  "nbformat": 4,
  "nbformat_minor": 0,
  "metadata": {
    "colab": {
      "provenance": []
    },
    "kernelspec": {
      "name": "python3",
      "display_name": "Python 3"
    },
    "language_info": {
      "name": "python"
    }
  },
  "cells": [
    {
      "cell_type": "markdown",
      "source": [
        "**Import Pandas Library as pd in Google collab.**"
      ],
      "metadata": {
        "id": "FDRPkN3-hHYJ"
      }
    },
    {
      "cell_type": "code",
      "source": [
        "import pandas as pd"
      ],
      "metadata": {
        "id": "Ol2B5mATf1Zc"
      },
      "execution_count": null,
      "outputs": []
    },
    {
      "cell_type": "markdown",
      "source": [
        "**merge those two csv files \n",
        "after getting as dataframes, get them as a single dataframe**"
      ],
      "metadata": {
        "id": "k1GYapsZhbd0"
      }
    },
    {
      "cell_type": "code",
      "execution_count": 21,
      "metadata": {
        "colab": {
          "base_uri": "https://localhost:8080/"
        },
        "id": "90o7dva2c3Si",
        "outputId": "c1c88031-8bbe-4ffe-b7d3-25ca9b76c29f"
      },
      "outputs": [
        {
          "output_type": "stream",
          "name": "stdout",
          "text": [
            "              Name  python  mysql  Previous Geekions  CodeKata Score  \\\n",
            "0        A.Dharani    82.0   20.0              24500           24500   \n",
            "1      V.JEEVITHA     82.0   20.0              21740           21740   \n",
            "2      HEMAVATHI.R   100.0  100.0              19680           19680   \n",
            "3      Mugunthan S   100.0   47.0              10610           10610   \n",
            "4      Sathammai.S   100.0    8.0               8980            8980   \n",
            "..             ...     ...    ...                ...             ...   \n",
            "79    KarthikeyanS    45.0    0.0                  0               0   \n",
            "80        BARATH.P    29.0    0.0                  0               0   \n",
            "81   N.Ajith kumar    82.0    0.0                  0               0   \n",
            "82    mohamed nabi     0.0    0.0                  0               0   \n",
            "83  yaser ahamed.A     0.0   27.0                  0               0   \n",
            "\n",
            "                                Department  Rising  \n",
            "0         Computer Science and Engineering       0  \n",
            "1         Computer Science and Engineering       0  \n",
            "2         Computer Science and Engineering       0  \n",
            "3         Computer Science and Engineering       0  \n",
            "4         Computer Science and Engineering       0  \n",
            "..                                     ...     ...  \n",
            "79  Electronics and Electrical Engineering       0  \n",
            "80  Electronics and Electrical Engineering       0  \n",
            "81  Electronics and Electrical Engineering       0  \n",
            "82  Electronics and Electrical Engineering       0  \n",
            "83  Electronics and Electrical Engineering       0  \n",
            "\n",
            "[84 rows x 7 columns]\n"
          ]
        }
      ],
      "source": [
        "df1=pd.read_csv(\"/content/college_1.csv\")\n",
        "df2=pd.read_csv(\"/content/college_2.csv\")\n",
        "df3=df1.append(df2, sort=False, ignore_index=True)\n",
        "print(df1)"
      ]
    },
    {
      "cell_type": "code",
      "source": [
        "print(df2)"
      ],
      "metadata": {
        "colab": {
          "base_uri": "https://localhost:8080/"
        },
        "id": "6nVb4ah6g8Tv",
        "outputId": "4037beb6-fcdc-4342-8047-bea9adf56756"
      },
      "execution_count": 20,
      "outputs": [
        {
          "output_type": "stream",
          "name": "stdout",
          "text": [
            "                      Name  python  python_en  mysql  computational_thinking  \\\n",
            "0            ASHOK KUMAR K     100          0     31                       9   \n",
            "1                  Chandru       0         20      0                       0   \n",
            "2        Ganesh Ramkumar R      -1         55     24                       6   \n",
            "3          Bodipudi Harini      -1          0     35                      -1   \n",
            "4                VIINU V P      -1        100     24                      -1   \n",
            "5               Poojitha Y       0         78     35                       0   \n",
            "6   Gowtham Chandrasekaran      -1          0      0                       3   \n",
            "7                Gowtham R      -1         60      4                       6   \n",
            "8                 shifak N      58          0      0                       0   \n",
            "9                  Balaji       -1        100     20                       0   \n",
            "10                Rushitha      -1         15     62                       9   \n",
            "11    Balaraman Muthupandi      -1          9      0                       0   \n",
            "12                JPradhap     100          0      0                       0   \n",
            "13           SRIRAMKUMAR B      -1          0      0                       0   \n",
            "14               Praneetha      -1         23    100                      -1   \n",
            "15             Rahul Raj K      -1          0      0                       0   \n",
            "16                 Guhan S      -1         72     35                      39   \n",
            "17            Suryarajan S      -1         63     31                       0   \n",
            "18          Narasimhan Y L      -1         -1      0                       0   \n",
            "19            Leelakrishna      -1          6      4                       0   \n",
            "20          PremsagarReddy      -1         20      0                       0   \n",
            "21               pradeeban      16         20     24                       0   \n",
            "22             santhoshini      -1         43      0                       0   \n",
            "23              MUKESH S M      -1         46      0                       0   \n",
            "24           P.GOVARDHANAN      -1         40      0                      -1   \n",
            "25            SHAIK DANISH      -1         43      0                       0   \n",
            "26               sridhar.s      -1         52      0                       0   \n",
            "27       Vimalesh Fernando      -1          0      0                       0   \n",
            "28           M.Karthikeyan      -1          0      4                       6   \n",
            "29               Abishak s      -1         55     35                       6   \n",
            "30           praveen raj j      24         -1      0                       0   \n",
            "31              AMARNATH D      -1         52     12                      -1   \n",
            "32                    bala      32         49      0                      -1   \n",
            "33                    XY Z      -1         20     -1                      -1   \n",
            "34               Hariharan      -1         -1     -1                       0   \n",
            "\n",
            "    Previous Geekions  CodeKata Score  \\\n",
            "0               19400           19400   \n",
            "1               14150           14490   \n",
            "2                8790           10790   \n",
            "3               10040           10040   \n",
            "4                9150            9150   \n",
            "5                7210            8970   \n",
            "6                7250            8950   \n",
            "7                8650            8650   \n",
            "8                5180            8320   \n",
            "9                6170            8160   \n",
            "10               7470            8090   \n",
            "11               7670            8050   \n",
            "12               7340            8030   \n",
            "13               6400            7940   \n",
            "14               7170            7730   \n",
            "15               6280            7640   \n",
            "16               7310            7630   \n",
            "17               6710            7550   \n",
            "18               4800            6800   \n",
            "19               5300            6640   \n",
            "20               5290            6290   \n",
            "21               6060            6090   \n",
            "22               3910            5740   \n",
            "23               5200            5200   \n",
            "24               5050            5050   \n",
            "25               4050            4820   \n",
            "26               3860            4440   \n",
            "27               4170            4170   \n",
            "28               4020            4020   \n",
            "29               3220            3220   \n",
            "30               2380            2380   \n",
            "31               1890            1890   \n",
            "32               1720            1720   \n",
            "33                  0               0   \n",
            "34                  0               0   \n",
            "\n",
            "                                   Department  Rising  \n",
            "0      Electronics and Electrical Engineering       0  \n",
            "1            Computer Science and Engineering     340  \n",
            "2            Computer Science and Engineering    2000  \n",
            "3   Electronics and Communication Engineering       0  \n",
            "4      Electronics and Electrical Engineering       0  \n",
            "5            Computer Science and Engineering    1760  \n",
            "6            Computer Science and Engineering    1700  \n",
            "7   Electronics and Communication Engineering       0  \n",
            "8      Electronics and Electrical Engineering    3140  \n",
            "9      Electronics and Electrical Engineering    1990  \n",
            "10           Computer Science and Engineering     620  \n",
            "11           Computer Science and Engineering     380  \n",
            "12     Electronics and Electrical Engineering     690  \n",
            "13           Computer Science and Engineering    1540  \n",
            "14  Electronics and Communication Engineering     560  \n",
            "15           Computer Science and Engineering    1360  \n",
            "16  Electronics and Communication Engineering     320  \n",
            "17           Computer Science and Engineering     840  \n",
            "18           Computer Science and Engineering    2000  \n",
            "19           Computer Science and Engineering    1340  \n",
            "20           Computer Science and Engineering    1000  \n",
            "21           Computer Science and Engineering      30  \n",
            "22           Computer Science and Engineering    1830  \n",
            "23           Computer Science and Engineering       0  \n",
            "24  Electronics and Communication Engineering       0  \n",
            "25           Computer Science and Engineering     770  \n",
            "26           Computer Science and Engineering     580  \n",
            "27           Computer Science and Engineering       0  \n",
            "28           Computer Science and Engineering       0  \n",
            "29  Electronics and Communication Engineering       0  \n",
            "30           Computer Science and Engineering       0  \n",
            "31  Electronics and Communication Engineering       0  \n",
            "32  Electronics and Communication Engineering       0  \n",
            "33           Computer Science and Engineering       0  \n",
            "34           Computer Science and Engineering       0  \n"
          ]
        }
      ]
    },
    {
      "cell_type": "code",
      "source": [
        "print(df3)"
      ],
      "metadata": {
        "colab": {
          "base_uri": "https://localhost:8080/"
        },
        "id": "4vaJCX8JfpJ8",
        "outputId": "af11a196-4877-42e0-877f-652f18cc1d28"
      },
      "execution_count": 6,
      "outputs": [
        {
          "output_type": "stream",
          "name": "stdout",
          "text": [
            "              Name  python  mysql  Previous Geekions  CodeKata Score  \\\n",
            "0        A.Dharani    82.0   20.0              24500           24500   \n",
            "1      V.JEEVITHA     82.0   20.0              21740           21740   \n",
            "2      HEMAVATHI.R   100.0  100.0              19680           19680   \n",
            "3      Mugunthan S   100.0   47.0              10610           10610   \n",
            "4      Sathammai.S   100.0    8.0               8980            8980   \n",
            "..             ...     ...    ...                ...             ...   \n",
            "114  praveen raj j    24.0    0.0               2380            2380   \n",
            "115     AMARNATH D    -1.0   12.0               1890            1890   \n",
            "116           bala    32.0    0.0               1720            1720   \n",
            "117           XY Z    -1.0   -1.0                  0               0   \n",
            "118      Hariharan    -1.0   -1.0                  0               0   \n",
            "\n",
            "                                    Department  Rising  python_en  \\\n",
            "0             Computer Science and Engineering       0        NaN   \n",
            "1             Computer Science and Engineering       0        NaN   \n",
            "2             Computer Science and Engineering       0        NaN   \n",
            "3             Computer Science and Engineering       0        NaN   \n",
            "4             Computer Science and Engineering       0        NaN   \n",
            "..                                         ...     ...        ...   \n",
            "114           Computer Science and Engineering       0       -1.0   \n",
            "115  Electronics and Communication Engineering       0       52.0   \n",
            "116  Electronics and Communication Engineering       0       49.0   \n",
            "117           Computer Science and Engineering       0       20.0   \n",
            "118           Computer Science and Engineering       0       -1.0   \n",
            "\n",
            "     computational_thinking  \n",
            "0                       NaN  \n",
            "1                       NaN  \n",
            "2                       NaN  \n",
            "3                       NaN  \n",
            "4                       NaN  \n",
            "..                      ...  \n",
            "114                     0.0  \n",
            "115                    -1.0  \n",
            "116                    -1.0  \n",
            "117                    -1.0  \n",
            "118                     0.0  \n",
            "\n",
            "[119 rows x 9 columns]\n"
          ]
        }
      ]
    },
    {
      "cell_type": "markdown",
      "source": [
        "if codekate score < 7000 (Unsatisfactory.csv)"
      ],
      "metadata": {
        "id": "b5I511GGhnYt"
      }
    },
    {
      "cell_type": "code",
      "source": [
        "df4=df3[df3[\"CodeKata Score\"]>15000]\n",
        "df4.to_csv('Exceeded expectations.csv')\n",
        "print(df4)"
      ],
      "metadata": {
        "colab": {
          "base_uri": "https://localhost:8080/"
        },
        "id": "XkHiZjPLf7qr",
        "outputId": "4d79b286-849a-449d-d852-5f8b35b20bec"
      },
      "execution_count": 7,
      "outputs": [
        {
          "output_type": "stream",
          "name": "stdout",
          "text": [
            "             Name  python  mysql  Previous Geekions  CodeKata Score  \\\n",
            "0       A.Dharani    82.0   20.0              24500           24500   \n",
            "1     V.JEEVITHA     82.0   20.0              21740           21740   \n",
            "2     HEMAVATHI.R   100.0  100.0              19680           19680   \n",
            "84  ASHOK KUMAR K   100.0   31.0              19400           19400   \n",
            "\n",
            "                                Department  Rising  python_en  \\\n",
            "0         Computer Science and Engineering       0        NaN   \n",
            "1         Computer Science and Engineering       0        NaN   \n",
            "2         Computer Science and Engineering       0        NaN   \n",
            "84  Electronics and Electrical Engineering       0        0.0   \n",
            "\n",
            "    computational_thinking  \n",
            "0                      NaN  \n",
            "1                      NaN  \n",
            "2                      NaN  \n",
            "84                     9.0  \n"
          ]
        }
      ]
    },
    {
      "cell_type": "code",
      "source": [
        "df5=df3[(df3[\"CodeKata Score\"]>10000) & (df3[\"CodeKata Score\"]<15000)]\n",
        "df5.to_csv('Reached_expectations.csv')\n",
        "print(df5)"
      ],
      "metadata": {
        "colab": {
          "base_uri": "https://localhost:8080/"
        },
        "id": "TxzvAammgDGG",
        "outputId": "75377051-442b-4436-c6a9-ca81ced79c5c"
      },
      "execution_count": 8,
      "outputs": [
        {
          "output_type": "stream",
          "name": "stdout",
          "text": [
            "                 Name  python  mysql  Previous Geekions  CodeKata Score  \\\n",
            "3         Mugunthan S   100.0   47.0              10610           10610   \n",
            "85            Chandru     0.0    0.0              14150           14490   \n",
            "86  Ganesh Ramkumar R    -1.0   24.0               8790           10790   \n",
            "87    Bodipudi Harini    -1.0   35.0              10040           10040   \n",
            "\n",
            "                                   Department  Rising  python_en  \\\n",
            "3            Computer Science and Engineering       0        NaN   \n",
            "85           Computer Science and Engineering     340       20.0   \n",
            "86           Computer Science and Engineering    2000       55.0   \n",
            "87  Electronics and Communication Engineering       0        0.0   \n",
            "\n",
            "    computational_thinking  \n",
            "3                      NaN  \n",
            "85                     0.0  \n",
            "86                     6.0  \n",
            "87                    -1.0  \n"
          ]
        }
      ]
    },
    {
      "cell_type": "code",
      "source": [
        "df6=df3[(df3[\"CodeKata Score\"]>7000) & (df3[\"CodeKata Score\"]<10000)]\n",
        "df6.to_csv('Needs_Improvement.csv')\n",
        "print(df6)"
      ],
      "metadata": {
        "colab": {
          "base_uri": "https://localhost:8080/"
        },
        "id": "IhsUl5bJgI_9",
        "outputId": "6f600a88-a006-4696-c49e-59dc4f41c931"
      },
      "execution_count": 9,
      "outputs": [
        {
          "output_type": "stream",
          "name": "stdout",
          "text": [
            "                       Name  python  mysql  Previous Geekions  CodeKata Score  \\\n",
            "4               Sathammai.S   100.0    8.0               8980            8980   \n",
            "5              NIVEESHWAR S   100.0    0.0               8200            8200   \n",
            "6             KALAIARASAN K    85.0   47.0               7750            7880   \n",
            "7      MOHAMED ZUBAIR AHMED    82.0    4.0               7020            7020   \n",
            "88                VIINU V P    -1.0   24.0               9150            9150   \n",
            "89               Poojitha Y     0.0   35.0               7210            8970   \n",
            "90   Gowtham Chandrasekaran    -1.0    0.0               7250            8950   \n",
            "91                Gowtham R    -1.0    4.0               8650            8650   \n",
            "92                 shifak N    58.0    0.0               5180            8320   \n",
            "93                  Balaji     -1.0   20.0               6170            8160   \n",
            "94                 Rushitha    -1.0   62.0               7470            8090   \n",
            "95     Balaraman Muthupandi    -1.0    0.0               7670            8050   \n",
            "96                 JPradhap   100.0    0.0               7340            8030   \n",
            "97            SRIRAMKUMAR B    -1.0    0.0               6400            7940   \n",
            "98                Praneetha    -1.0  100.0               7170            7730   \n",
            "99              Rahul Raj K    -1.0    0.0               6280            7640   \n",
            "100                 Guhan S    -1.0   35.0               7310            7630   \n",
            "101            Suryarajan S    -1.0   31.0               6710            7550   \n",
            "\n",
            "                                    Department  Rising  python_en  \\\n",
            "4             Computer Science and Engineering       0        NaN   \n",
            "5             Computer Science and Engineering       0        NaN   \n",
            "6    Electronics and Communication Engineering     130        NaN   \n",
            "7             Computer Science and Engineering       0        NaN   \n",
            "88      Electronics and Electrical Engineering       0      100.0   \n",
            "89            Computer Science and Engineering    1760       78.0   \n",
            "90            Computer Science and Engineering    1700        0.0   \n",
            "91   Electronics and Communication Engineering       0       60.0   \n",
            "92      Electronics and Electrical Engineering    3140        0.0   \n",
            "93      Electronics and Electrical Engineering    1990      100.0   \n",
            "94            Computer Science and Engineering     620       15.0   \n",
            "95            Computer Science and Engineering     380        9.0   \n",
            "96      Electronics and Electrical Engineering     690        0.0   \n",
            "97            Computer Science and Engineering    1540        0.0   \n",
            "98   Electronics and Communication Engineering     560       23.0   \n",
            "99            Computer Science and Engineering    1360        0.0   \n",
            "100  Electronics and Communication Engineering     320       72.0   \n",
            "101           Computer Science and Engineering     840       63.0   \n",
            "\n",
            "     computational_thinking  \n",
            "4                       NaN  \n",
            "5                       NaN  \n",
            "6                       NaN  \n",
            "7                       NaN  \n",
            "88                     -1.0  \n",
            "89                      0.0  \n",
            "90                      3.0  \n",
            "91                      6.0  \n",
            "92                      0.0  \n",
            "93                      0.0  \n",
            "94                      9.0  \n",
            "95                      0.0  \n",
            "96                      0.0  \n",
            "97                      0.0  \n",
            "98                     -1.0  \n",
            "99                      0.0  \n",
            "100                    39.0  \n",
            "101                     0.0  \n"
          ]
        }
      ]
    },
    {
      "cell_type": "code",
      "source": [
        "df7=df3[df3[\"CodeKata Score\"]<7000]\n",
        "df7.to_csv('Unsatisfactory.csv')\n",
        "print(df7)"
      ],
      "metadata": {
        "colab": {
          "base_uri": "https://localhost:8080/"
        },
        "id": "a9EE-NLggNi0",
        "outputId": "d17b9916-1024-4935-984f-d15342290283"
      },
      "execution_count": 10,
      "outputs": [
        {
          "output_type": "stream",
          "name": "stdout",
          "text": [
            "                Name  python  mysql  Previous Geekions  CodeKata Score  \\\n",
            "8         J.SUGANTHI    27.0  50.00               5860            5860   \n",
            "9       thamizhpaana    29.0   0.00               5500            5500   \n",
            "10   Iyappan Samiraj    50.0  24.00               5400            5400   \n",
            "11      Ponniyamma.R   100.0  11.25               5380            5380   \n",
            "12         SABAPATHI   100.0   0.00               5280            5280   \n",
            "..               ...     ...    ...                ...             ...   \n",
            "114    praveen raj j    24.0   0.00               2380            2380   \n",
            "115       AMARNATH D    -1.0  12.00               1890            1890   \n",
            "116             bala    32.0   0.00               1720            1720   \n",
            "117             XY Z    -1.0  -1.00                  0               0   \n",
            "118        Hariharan    -1.0  -1.00                  0               0   \n",
            "\n",
            "                                    Department  Rising  python_en  \\\n",
            "8    Electronics and Communication Engineering       0        NaN   \n",
            "9             Computer Science and Engineering       0        NaN   \n",
            "10   Electronics and Communication Engineering       0        NaN   \n",
            "11            Computer Science and Engineering       0        NaN   \n",
            "12            Computer Science and Engineering       0        NaN   \n",
            "..                                         ...     ...        ...   \n",
            "114           Computer Science and Engineering       0       -1.0   \n",
            "115  Electronics and Communication Engineering       0       52.0   \n",
            "116  Electronics and Communication Engineering       0       49.0   \n",
            "117           Computer Science and Engineering       0       20.0   \n",
            "118           Computer Science and Engineering       0       -1.0   \n",
            "\n",
            "     computational_thinking  \n",
            "8                       NaN  \n",
            "9                       NaN  \n",
            "10                      NaN  \n",
            "11                      NaN  \n",
            "12                      NaN  \n",
            "..                      ...  \n",
            "114                     0.0  \n",
            "115                    -1.0  \n",
            "116                    -1.0  \n",
            "117                    -1.0  \n",
            "118                     0.0  \n",
            "\n",
            "[93 rows x 9 columns]\n"
          ]
        }
      ]
    },
    {
      "cell_type": "markdown",
      "source": [
        "**Average of previous week geekions vs this week geekions (i.e Previous Geekions vs CodeKata Score)**"
      ],
      "metadata": {
        "id": "LLIBA1i3hwKp"
      }
    },
    {
      "cell_type": "code",
      "source": [
        "df3[[\"Previous Geekions\",\"CodeKata Score\"]].mean()"
      ],
      "metadata": {
        "colab": {
          "base_uri": "https://localhost:8080/"
        },
        "id": "W8cqq9TKgS42",
        "outputId": "d7d82c94-cd61-4f1f-9e72-e2c077ba5ceb"
      },
      "execution_count": 11,
      "outputs": [
        {
          "output_type": "execute_result",
          "data": {
            "text/plain": [
              "Previous Geekions    3842.352941\n",
              "CodeKata Score       4051.764706\n",
              "dtype: float64"
            ]
          },
          "metadata": {},
          "execution_count": 11
        }
      ]
    },
    {
      "cell_type": "code",
      "source": [
        "df3[\"Name\"].count()"
      ],
      "metadata": {
        "colab": {
          "base_uri": "https://localhost:8080/"
        },
        "id": "WezjHJ5BgYDH",
        "outputId": "c376d940-4faa-4d2a-d990-e3507b9a490d"
      },
      "execution_count": 12,
      "outputs": [
        {
          "output_type": "execute_result",
          "data": {
            "text/plain": [
              "119"
            ]
          },
          "metadata": {},
          "execution_count": 12
        }
      ]
    },
    {
      "cell_type": "markdown",
      "source": [
        "Average completion of python course or my_sql or python english or computational thinking"
      ],
      "metadata": {
        "id": "NOMp2fDVh1pa"
      }
    },
    {
      "cell_type": "code",
      "source": [
        "df3[[\"python\",\"mysql\",\"python_en\",\"computational_thinking\"]].mean()"
      ],
      "metadata": {
        "colab": {
          "base_uri": "https://localhost:8080/"
        },
        "id": "WNDG2_E7gant",
        "outputId": "8ecd39e3-5414-47c7-8c6b-9e027cd86eab"
      },
      "execution_count": 13,
      "outputs": [
        {
          "output_type": "execute_result",
          "data": {
            "text/plain": [
              "python                    54.352941\n",
              "mysql                     23.500000\n",
              "python_en                 29.657143\n",
              "computational_thinking     2.200000\n",
              "dtype: float64"
            ]
          },
          "metadata": {},
          "execution_count": 13
        }
      ]
    },
    {
      "cell_type": "markdown",
      "source": [
        "rising star of the week (top 3 candidate who performed well in that particular week)"
      ],
      "metadata": {
        "id": "S_agLyqDiOa2"
      }
    },
    {
      "cell_type": "code",
      "source": [
        "df3.nlargest(3,[\"Rising\"])"
      ],
      "metadata": {
        "colab": {
          "base_uri": "https://localhost:8080/",
          "height": 239
        },
        "id": "rFVRNNubgdSH",
        "outputId": "5e19995e-2a4f-432a-c4aa-403eab68dd96"
      },
      "execution_count": 14,
      "outputs": [
        {
          "output_type": "execute_result",
          "data": {
            "text/plain": [
              "                  Name  python  mysql  Previous Geekions  CodeKata Score  \\\n",
              "92            shifak N    58.0    0.0               5180            8320   \n",
              "86   Ganesh Ramkumar R    -1.0   24.0               8790           10790   \n",
              "102     Narasimhan Y L    -1.0    0.0               4800            6800   \n",
              "\n",
              "                                 Department  Rising  python_en  \\\n",
              "92   Electronics and Electrical Engineering    3140        0.0   \n",
              "86         Computer Science and Engineering    2000       55.0   \n",
              "102        Computer Science and Engineering    2000       -1.0   \n",
              "\n",
              "     computational_thinking  \n",
              "92                      0.0  \n",
              "86                      6.0  \n",
              "102                     0.0  "
            ],
            "text/html": [
              "\n",
              "  <div id=\"df-00648402-6248-4338-ae1c-132e3a3bd9f0\">\n",
              "    <div class=\"colab-df-container\">\n",
              "      <div>\n",
              "<style scoped>\n",
              "    .dataframe tbody tr th:only-of-type {\n",
              "        vertical-align: middle;\n",
              "    }\n",
              "\n",
              "    .dataframe tbody tr th {\n",
              "        vertical-align: top;\n",
              "    }\n",
              "\n",
              "    .dataframe thead th {\n",
              "        text-align: right;\n",
              "    }\n",
              "</style>\n",
              "<table border=\"1\" class=\"dataframe\">\n",
              "  <thead>\n",
              "    <tr style=\"text-align: right;\">\n",
              "      <th></th>\n",
              "      <th>Name</th>\n",
              "      <th>python</th>\n",
              "      <th>mysql</th>\n",
              "      <th>Previous Geekions</th>\n",
              "      <th>CodeKata Score</th>\n",
              "      <th>Department</th>\n",
              "      <th>Rising</th>\n",
              "      <th>python_en</th>\n",
              "      <th>computational_thinking</th>\n",
              "    </tr>\n",
              "  </thead>\n",
              "  <tbody>\n",
              "    <tr>\n",
              "      <th>92</th>\n",
              "      <td>shifak N</td>\n",
              "      <td>58.0</td>\n",
              "      <td>0.0</td>\n",
              "      <td>5180</td>\n",
              "      <td>8320</td>\n",
              "      <td>Electronics and Electrical Engineering</td>\n",
              "      <td>3140</td>\n",
              "      <td>0.0</td>\n",
              "      <td>0.0</td>\n",
              "    </tr>\n",
              "    <tr>\n",
              "      <th>86</th>\n",
              "      <td>Ganesh Ramkumar R</td>\n",
              "      <td>-1.0</td>\n",
              "      <td>24.0</td>\n",
              "      <td>8790</td>\n",
              "      <td>10790</td>\n",
              "      <td>Computer Science and Engineering</td>\n",
              "      <td>2000</td>\n",
              "      <td>55.0</td>\n",
              "      <td>6.0</td>\n",
              "    </tr>\n",
              "    <tr>\n",
              "      <th>102</th>\n",
              "      <td>Narasimhan Y L</td>\n",
              "      <td>-1.0</td>\n",
              "      <td>0.0</td>\n",
              "      <td>4800</td>\n",
              "      <td>6800</td>\n",
              "      <td>Computer Science and Engineering</td>\n",
              "      <td>2000</td>\n",
              "      <td>-1.0</td>\n",
              "      <td>0.0</td>\n",
              "    </tr>\n",
              "  </tbody>\n",
              "</table>\n",
              "</div>\n",
              "      <button class=\"colab-df-convert\" onclick=\"convertToInteractive('df-00648402-6248-4338-ae1c-132e3a3bd9f0')\"\n",
              "              title=\"Convert this dataframe to an interactive table.\"\n",
              "              style=\"display:none;\">\n",
              "        \n",
              "  <svg xmlns=\"http://www.w3.org/2000/svg\" height=\"24px\"viewBox=\"0 0 24 24\"\n",
              "       width=\"24px\">\n",
              "    <path d=\"M0 0h24v24H0V0z\" fill=\"none\"/>\n",
              "    <path d=\"M18.56 5.44l.94 2.06.94-2.06 2.06-.94-2.06-.94-.94-2.06-.94 2.06-2.06.94zm-11 1L8.5 8.5l.94-2.06 2.06-.94-2.06-.94L8.5 2.5l-.94 2.06-2.06.94zm10 10l.94 2.06.94-2.06 2.06-.94-2.06-.94-.94-2.06-.94 2.06-2.06.94z\"/><path d=\"M17.41 7.96l-1.37-1.37c-.4-.4-.92-.59-1.43-.59-.52 0-1.04.2-1.43.59L10.3 9.45l-7.72 7.72c-.78.78-.78 2.05 0 2.83L4 21.41c.39.39.9.59 1.41.59.51 0 1.02-.2 1.41-.59l7.78-7.78 2.81-2.81c.8-.78.8-2.07 0-2.86zM5.41 20L4 18.59l7.72-7.72 1.47 1.35L5.41 20z\"/>\n",
              "  </svg>\n",
              "      </button>\n",
              "      \n",
              "  <style>\n",
              "    .colab-df-container {\n",
              "      display:flex;\n",
              "      flex-wrap:wrap;\n",
              "      gap: 12px;\n",
              "    }\n",
              "\n",
              "    .colab-df-convert {\n",
              "      background-color: #E8F0FE;\n",
              "      border: none;\n",
              "      border-radius: 50%;\n",
              "      cursor: pointer;\n",
              "      display: none;\n",
              "      fill: #1967D2;\n",
              "      height: 32px;\n",
              "      padding: 0 0 0 0;\n",
              "      width: 32px;\n",
              "    }\n",
              "\n",
              "    .colab-df-convert:hover {\n",
              "      background-color: #E2EBFA;\n",
              "      box-shadow: 0px 1px 2px rgba(60, 64, 67, 0.3), 0px 1px 3px 1px rgba(60, 64, 67, 0.15);\n",
              "      fill: #174EA6;\n",
              "    }\n",
              "\n",
              "    [theme=dark] .colab-df-convert {\n",
              "      background-color: #3B4455;\n",
              "      fill: #D2E3FC;\n",
              "    }\n",
              "\n",
              "    [theme=dark] .colab-df-convert:hover {\n",
              "      background-color: #434B5C;\n",
              "      box-shadow: 0px 1px 3px 1px rgba(0, 0, 0, 0.15);\n",
              "      filter: drop-shadow(0px 1px 2px rgba(0, 0, 0, 0.3));\n",
              "      fill: #FFFFFF;\n",
              "    }\n",
              "  </style>\n",
              "\n",
              "      <script>\n",
              "        const buttonEl =\n",
              "          document.querySelector('#df-00648402-6248-4338-ae1c-132e3a3bd9f0 button.colab-df-convert');\n",
              "        buttonEl.style.display =\n",
              "          google.colab.kernel.accessAllowed ? 'block' : 'none';\n",
              "\n",
              "        async function convertToInteractive(key) {\n",
              "          const element = document.querySelector('#df-00648402-6248-4338-ae1c-132e3a3bd9f0');\n",
              "          const dataTable =\n",
              "            await google.colab.kernel.invokeFunction('convertToInteractive',\n",
              "                                                     [key], {});\n",
              "          if (!dataTable) return;\n",
              "\n",
              "          const docLinkHtml = 'Like what you see? Visit the ' +\n",
              "            '<a target=\"_blank\" href=https://colab.research.google.com/notebooks/data_table.ipynb>data table notebook</a>'\n",
              "            + ' to learn more about interactive tables.';\n",
              "          element.innerHTML = '';\n",
              "          dataTable['output_type'] = 'display_data';\n",
              "          await google.colab.output.renderOutput(dataTable, element);\n",
              "          const docLink = document.createElement('div');\n",
              "          docLink.innerHTML = docLinkHtml;\n",
              "          element.appendChild(docLink);\n",
              "        }\n",
              "      </script>\n",
              "    </div>\n",
              "  </div>\n",
              "  "
            ]
          },
          "metadata": {},
          "execution_count": 14
        }
      ]
    },
    {
      "cell_type": "markdown",
      "source": [
        "Shining stars of the week (top 3 candidates who has highest geekions)"
      ],
      "metadata": {
        "id": "zBN3uK02iVJM"
      }
    },
    {
      "cell_type": "code",
      "source": [
        "df3.nlargest(3,[\"Previous Geekions\"])"
      ],
      "metadata": {
        "colab": {
          "base_uri": "https://localhost:8080/",
          "height": 187
        },
        "id": "teVzabnYggMz",
        "outputId": "f8ac3cd8-1d3a-4695-8833-830395d95b22"
      },
      "execution_count": 15,
      "outputs": [
        {
          "output_type": "execute_result",
          "data": {
            "text/plain": [
              "          Name  python  mysql  Previous Geekions  CodeKata Score  \\\n",
              "0    A.Dharani    82.0   20.0              24500           24500   \n",
              "1  V.JEEVITHA     82.0   20.0              21740           21740   \n",
              "2  HEMAVATHI.R   100.0  100.0              19680           19680   \n",
              "\n",
              "                         Department  Rising  python_en  computational_thinking  \n",
              "0  Computer Science and Engineering       0        NaN                     NaN  \n",
              "1  Computer Science and Engineering       0        NaN                     NaN  \n",
              "2  Computer Science and Engineering       0        NaN                     NaN  "
            ],
            "text/html": [
              "\n",
              "  <div id=\"df-850e8d20-3637-4f8d-90c0-445006275b01\">\n",
              "    <div class=\"colab-df-container\">\n",
              "      <div>\n",
              "<style scoped>\n",
              "    .dataframe tbody tr th:only-of-type {\n",
              "        vertical-align: middle;\n",
              "    }\n",
              "\n",
              "    .dataframe tbody tr th {\n",
              "        vertical-align: top;\n",
              "    }\n",
              "\n",
              "    .dataframe thead th {\n",
              "        text-align: right;\n",
              "    }\n",
              "</style>\n",
              "<table border=\"1\" class=\"dataframe\">\n",
              "  <thead>\n",
              "    <tr style=\"text-align: right;\">\n",
              "      <th></th>\n",
              "      <th>Name</th>\n",
              "      <th>python</th>\n",
              "      <th>mysql</th>\n",
              "      <th>Previous Geekions</th>\n",
              "      <th>CodeKata Score</th>\n",
              "      <th>Department</th>\n",
              "      <th>Rising</th>\n",
              "      <th>python_en</th>\n",
              "      <th>computational_thinking</th>\n",
              "    </tr>\n",
              "  </thead>\n",
              "  <tbody>\n",
              "    <tr>\n",
              "      <th>0</th>\n",
              "      <td>A.Dharani</td>\n",
              "      <td>82.0</td>\n",
              "      <td>20.0</td>\n",
              "      <td>24500</td>\n",
              "      <td>24500</td>\n",
              "      <td>Computer Science and Engineering</td>\n",
              "      <td>0</td>\n",
              "      <td>NaN</td>\n",
              "      <td>NaN</td>\n",
              "    </tr>\n",
              "    <tr>\n",
              "      <th>1</th>\n",
              "      <td>V.JEEVITHA</td>\n",
              "      <td>82.0</td>\n",
              "      <td>20.0</td>\n",
              "      <td>21740</td>\n",
              "      <td>21740</td>\n",
              "      <td>Computer Science and Engineering</td>\n",
              "      <td>0</td>\n",
              "      <td>NaN</td>\n",
              "      <td>NaN</td>\n",
              "    </tr>\n",
              "    <tr>\n",
              "      <th>2</th>\n",
              "      <td>HEMAVATHI.R</td>\n",
              "      <td>100.0</td>\n",
              "      <td>100.0</td>\n",
              "      <td>19680</td>\n",
              "      <td>19680</td>\n",
              "      <td>Computer Science and Engineering</td>\n",
              "      <td>0</td>\n",
              "      <td>NaN</td>\n",
              "      <td>NaN</td>\n",
              "    </tr>\n",
              "  </tbody>\n",
              "</table>\n",
              "</div>\n",
              "      <button class=\"colab-df-convert\" onclick=\"convertToInteractive('df-850e8d20-3637-4f8d-90c0-445006275b01')\"\n",
              "              title=\"Convert this dataframe to an interactive table.\"\n",
              "              style=\"display:none;\">\n",
              "        \n",
              "  <svg xmlns=\"http://www.w3.org/2000/svg\" height=\"24px\"viewBox=\"0 0 24 24\"\n",
              "       width=\"24px\">\n",
              "    <path d=\"M0 0h24v24H0V0z\" fill=\"none\"/>\n",
              "    <path d=\"M18.56 5.44l.94 2.06.94-2.06 2.06-.94-2.06-.94-.94-2.06-.94 2.06-2.06.94zm-11 1L8.5 8.5l.94-2.06 2.06-.94-2.06-.94L8.5 2.5l-.94 2.06-2.06.94zm10 10l.94 2.06.94-2.06 2.06-.94-2.06-.94-.94-2.06-.94 2.06-2.06.94z\"/><path d=\"M17.41 7.96l-1.37-1.37c-.4-.4-.92-.59-1.43-.59-.52 0-1.04.2-1.43.59L10.3 9.45l-7.72 7.72c-.78.78-.78 2.05 0 2.83L4 21.41c.39.39.9.59 1.41.59.51 0 1.02-.2 1.41-.59l7.78-7.78 2.81-2.81c.8-.78.8-2.07 0-2.86zM5.41 20L4 18.59l7.72-7.72 1.47 1.35L5.41 20z\"/>\n",
              "  </svg>\n",
              "      </button>\n",
              "      \n",
              "  <style>\n",
              "    .colab-df-container {\n",
              "      display:flex;\n",
              "      flex-wrap:wrap;\n",
              "      gap: 12px;\n",
              "    }\n",
              "\n",
              "    .colab-df-convert {\n",
              "      background-color: #E8F0FE;\n",
              "      border: none;\n",
              "      border-radius: 50%;\n",
              "      cursor: pointer;\n",
              "      display: none;\n",
              "      fill: #1967D2;\n",
              "      height: 32px;\n",
              "      padding: 0 0 0 0;\n",
              "      width: 32px;\n",
              "    }\n",
              "\n",
              "    .colab-df-convert:hover {\n",
              "      background-color: #E2EBFA;\n",
              "      box-shadow: 0px 1px 2px rgba(60, 64, 67, 0.3), 0px 1px 3px 1px rgba(60, 64, 67, 0.15);\n",
              "      fill: #174EA6;\n",
              "    }\n",
              "\n",
              "    [theme=dark] .colab-df-convert {\n",
              "      background-color: #3B4455;\n",
              "      fill: #D2E3FC;\n",
              "    }\n",
              "\n",
              "    [theme=dark] .colab-df-convert:hover {\n",
              "      background-color: #434B5C;\n",
              "      box-shadow: 0px 1px 3px 1px rgba(0, 0, 0, 0.15);\n",
              "      filter: drop-shadow(0px 1px 2px rgba(0, 0, 0, 0.3));\n",
              "      fill: #FFFFFF;\n",
              "    }\n",
              "  </style>\n",
              "\n",
              "      <script>\n",
              "        const buttonEl =\n",
              "          document.querySelector('#df-850e8d20-3637-4f8d-90c0-445006275b01 button.colab-df-convert');\n",
              "        buttonEl.style.display =\n",
              "          google.colab.kernel.accessAllowed ? 'block' : 'none';\n",
              "\n",
              "        async function convertToInteractive(key) {\n",
              "          const element = document.querySelector('#df-850e8d20-3637-4f8d-90c0-445006275b01');\n",
              "          const dataTable =\n",
              "            await google.colab.kernel.invokeFunction('convertToInteractive',\n",
              "                                                     [key], {});\n",
              "          if (!dataTable) return;\n",
              "\n",
              "          const docLinkHtml = 'Like what you see? Visit the ' +\n",
              "            '<a target=\"_blank\" href=https://colab.research.google.com/notebooks/data_table.ipynb>data table notebook</a>'\n",
              "            + ' to learn more about interactive tables.';\n",
              "          element.innerHTML = '';\n",
              "          dataTable['output_type'] = 'display_data';\n",
              "          await google.colab.output.renderOutput(dataTable, element);\n",
              "          const docLink = document.createElement('div');\n",
              "          docLink.innerHTML = docLinkHtml;\n",
              "          element.appendChild(docLink);\n",
              "        }\n",
              "      </script>\n",
              "    </div>\n",
              "  </div>\n",
              "  "
            ]
          },
          "metadata": {},
          "execution_count": 15
        }
      ]
    },
    {
      "cell_type": "code",
      "source": [
        "import matplotlib.pyplot as plt\n",
        "df8=df3.groupby(\"Department\")[\"CodeKata Score\"].mean()\n",
        "df8.plot.pie(subplots=True)"
      ],
      "metadata": {
        "colab": {
          "base_uri": "https://localhost:8080/",
          "height": 283
        },
        "id": "C70468QQgikY",
        "outputId": "da8a8b22-a283-43c9-bbdf-10588f92250f"
      },
      "execution_count": 16,
      "outputs": [
        {
          "output_type": "execute_result",
          "data": {
            "text/plain": [
              "array([<matplotlib.axes._subplots.AxesSubplot object at 0x7efc2643edd0>],\n",
              "      dtype=object)"
            ]
          },
          "metadata": {},
          "execution_count": 16
        },
        {
          "output_type": "display_data",
          "data": {
            "text/plain": [
              "<Figure size 432x288 with 1 Axes>"
            ],
            "image/png": "[encoded data removed]"
          },
          "metadata": {}
        }
      ]
    },
    {
      "cell_type": "markdown",
      "source": [
        "**Department wise codekata performence (pie chart)**\n",
        "\n",
        "\n",
        "\n",
        "\n",
        "\n"
      ],
      "metadata": {
        "id": "fsWQubxiidV-"
      }
    },
    {
      "cell_type": "code",
      "source": [
        "import matplotlib.pyplot as plt\n",
        "df9=df3.groupby(\"Department\",as_index=False)[\"Name\",\"CodeKata Score\"].max()\n",
        "print(df9)"
      ],
      "metadata": {
        "colab": {
          "base_uri": "https://localhost:8080/"
        },
        "id": "Qclm140aglVh",
        "outputId": "edf65a30-db1e-4c4a-d260-bd7fed113675"
      },
      "execution_count": 17,
      "outputs": [
        {
          "output_type": "stream",
          "name": "stdout",
          "text": [
            "                                  Department            Name  CodeKata Score\n",
            "0           Computer Science and Engineering     vijayakumar           24500\n",
            "1  Electronics and Communication Engineering       vignesh B           10040\n",
            "2     Electronics and Electrical Engineering  yaser ahamed.A           19400\n"
          ]
        },
        {
          "output_type": "stream",
          "name": "stderr",
          "text": [
            "/usr/local/lib/python3.7/dist-packages/ipykernel_launcher.py:2: FutureWarning: Indexing with multiple keys (implicitly converted to a tuple of keys) will be deprecated, use a list instead.\n",
            "  \n"
          ]
        }
      ]
    },
    {
      "cell_type": "code",
      "source": [
        "df9.plot.barh(x=\"Department\",y=\"CodeKata Score\",color=\"green\")"
      ],
      "metadata": {
        "colab": {
          "base_uri": "https://localhost:8080/",
          "height": 282
        },
        "id": "7fjJHTHggrhq",
        "outputId": "83d0feae-7099-4cb7-bc74-161aa92958ba"
      },
      "execution_count": 18,
      "outputs": [
        {
          "output_type": "execute_result",
          "data": {
            "text/plain": [
              "<matplotlib.axes._subplots.AxesSubplot at 0x7efc25f007d0>"
            ]
          },
          "metadata": {},
          "execution_count": 18
        },
        {
          "output_type": "display_data",
          "data": {
            "text/plain": [
              "<Figure size 432x288 with 1 Axes>"
            ],
            "image/png": "[encoded data removed]"
          },
          "metadata": {
            "needs_background": "light"
          }
        }
      ]
    },
    {
      "cell_type": "markdown",
      "source": [
        "**Department wise toppers (horizantal bar graph or any visual representations of your choice)**"
      ],
      "metadata": {
        "id": "jVwdYGfKivdv"
      }
    },
    {
      "cell_type": "code",
      "source": [
        "import numpy as np\n",
        "colors=np.array([0,30,60])\n",
        "df9.plot.scatter(x=\"Department\",y=\"CodeKata Score\",marker=\"^\",linewidth=8,c=colors,cmap=\"rainbow\",subplots=True)"
      ],
      "metadata": {
        "colab": {
          "base_uri": "https://localhost:8080/",
          "height": 293
        },
        "id": "j19yr8qCgvkw",
        "outputId": "a01a42fd-d572-4b6c-c12e-86e0c4bc24a0"
      },
      "execution_count": 19,
      "outputs": [
        {
          "output_type": "execute_result",
          "data": {
            "text/plain": [
              "array([<matplotlib.axes._subplots.AxesSubplot object at 0x7efc25e804d0>],\n",
              "      dtype=object)"
            ]
          },
          "metadata": {},
          "execution_count": 19
        },
        {
          "output_type": "display_data",
          "data": {
            "text/plain": [
              "<Figure size 432x288 with 2 Axes>"
            ],
            "image/png": "[encoded data removed]"
          },
          "metadata": {
            "needs_background": "light"
          }
        }
      ]
    },
    {
      "cell_type": "code",
      "source": [],
      "metadata": {
        "id": "wbJv2TZdgy80"
      },
      "execution_count": null,
      "outputs": []
    }
  ]
}